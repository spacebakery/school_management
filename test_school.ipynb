{
 "cells": [
  {
   "cell_type": "code",
   "execution_count": 1,
   "id": "89ee94dd",
   "metadata": {},
   "outputs": [],
   "source": [
    "from school_management import *\n"
   ]
  },
  {
   "cell_type": "code",
   "execution_count": 2,
   "id": "62bec575",
   "metadata": {},
   "outputs": [],
   "source": [
    "# --- Create the simulation ---\n",
    "school = School(\"Sunset Valley\")  # Instantiate a School object\n"
   ]
  },
  {
   "cell_type": "code",
   "execution_count": 3,
   "id": "25cd0ff9",
   "metadata": {},
   "outputs": [],
   "source": [
    "# Create courses\n",
    "math = Course(\"Math\")\n",
    "science = Course(\"Science\")\n",
    "english = Course(\"English\")\n"
   ]
  },
  {
   "cell_type": "code",
   "execution_count": 4,
   "id": "df48ad45",
   "metadata": {},
   "outputs": [],
   "source": [
    "# Create teachers and assign them to courses\n",
    "mr_smith = Teacher(\"Mr. Smith\")\n",
    "mrs_jones = Teacher(\"Mrs. Jones\")\n",
    "mr_smith.assign_course(math)\n",
    "mrs_jones.assign_course(science)\n",
    "mrs_jones.assign_course(english)\n"
   ]
  },
  {
   "cell_type": "code",
   "execution_count": 5,
   "id": "8cb17fb9",
   "metadata": {},
   "outputs": [],
   "source": [
    "# Add courses and teachers to the school\n",
    "school.add_course(math)\n",
    "school.add_course(science)\n",
    "school.add_course(english)\n",
    "school.add_teacher(mr_smith)\n",
    "school.add_teacher(mrs_jones)\n"
   ]
  },
  {
   "cell_type": "code",
   "execution_count": 6,
   "id": "9d79cda6",
   "metadata": {},
   "outputs": [],
   "source": [
    "# Create students, enroll them in courses, and add to school\n",
    "student_names = [\"Alice\", \"Bob\", \"Charlie\", \"Diana\"]\n",
    "for name in student_names:\n",
    "    s = Student(name)\n",
    "    school.add_student(s)\n",
    "    math.enroll_student(s)\n",
    "    science.enroll_student(s)\n",
    "    if name != \"Charlie\":  # Not all students take English\n",
    "        english.enroll_student(s)\n"
   ]
  },
  {
   "cell_type": "code",
   "execution_count": 7,
   "id": "27c4adf9",
   "metadata": {},
   "outputs": [
    {
     "name": "stdout",
     "output_type": "stream",
     "text": [
      "Welcome to Sunset Valley High School Simulator!\n",
      "\n",
      "Student: Alice\n",
      "  Grades: {'Math': 87, 'Science': 75, 'English': 74}\n",
      "  Favorite Subject: Math\n",
      "  Friends: Diana, Bob\n",
      "\n",
      "Student: Bob\n",
      "  Grades: {'Math': 91, 'Science': 91, 'English': 77}\n",
      "  Favorite Subject: Math\n",
      "  Friends: Diana, Charlie, Alice\n",
      "\n",
      "Student: Charlie\n",
      "  Grades: {'Math': 73, 'Science': 73}\n",
      "  Favorite Subject: Math\n",
      "  Friends: Diana, Bob\n",
      "\n",
      "Student: Diana\n",
      "  Grades: {'Math': 89, 'Science': 79, 'English': 66}\n",
      "  Favorite Subject: Math\n",
      "  Friends: Charlie, Bob, Alice\n",
      "\n"
     ]
    }
   ],
   "source": [
    "# Simulate the school environment\n",
    "school.simulate_grades()      # Assign random grades to students\n",
    "school.simulate_friendships() # Randomly connect students as friends\n",
    "school.summary()              # Display the school summary\n"
   ]
  }
 ],
 "metadata": {
  "kernelspec": {
   "display_name": "py313",
   "language": "python",
   "name": "python3"
  },
  "language_info": {
   "codemirror_mode": {
    "name": "ipython",
    "version": 3
   },
   "file_extension": ".py",
   "mimetype": "text/x-python",
   "name": "python",
   "nbconvert_exporter": "python",
   "pygments_lexer": "ipython3",
   "version": "3.13.3"
  }
 },
 "nbformat": 4,
 "nbformat_minor": 5
}
